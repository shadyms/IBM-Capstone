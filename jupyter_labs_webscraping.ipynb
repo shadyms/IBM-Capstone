{
  "cells": [
    {
      "cell_type": "markdown",
      "metadata": {
        "id": "nD_bkZmtbrvq"
      },
      "source": [
        "<p style=\"text-align:center\">\n",
        "    <a href=\"https://skills.network/?utm_medium=Exinfluencer&utm_source=Exinfluencer&utm_content=000026UJ&utm_term=10006555&utm_id=NA-SkillsNetwork-Channel-SkillsNetworkCoursesIBMDS0321ENSkillsNetwork26802033-2022-01-01\" target=\"_blank\">\n",
        "    <img src=\"https://cf-courses-data.s3.us.cloud-object-storage.appdomain.cloud/assets/logos/SN_web_lightmode.png\" width=\"200\" alt=\"Skills Network Logo\"  />\n",
        "    </a>\n",
        "</p>\n"
      ]
    },
    {
      "cell_type": "markdown",
      "metadata": {
        "id": "_iJlbSUFbrvz"
      },
      "source": [
        "# **Space X  Falcon 9 First Stage Landing Prediction**\n"
      ]
    },
    {
      "cell_type": "markdown",
      "metadata": {
        "id": "VDfEWTL-brv1"
      },
      "source": [
        "## Web scraping Falcon 9 and Falcon Heavy Launches Records from Wikipedia\n"
      ]
    },
    {
      "cell_type": "markdown",
      "metadata": {
        "id": "0dg16U10brv2"
      },
      "source": [
        "Estimated time needed: **40** minutes\n"
      ]
    },
    {
      "cell_type": "markdown",
      "metadata": {
        "id": "LuGGMQGBbrv3"
      },
      "source": [
        "In this lab, you will be performing web scraping to collect Falcon 9 historical launch records from a Wikipedia page titled `List of Falcon 9 and Falcon Heavy launches`\n",
        "\n",
        "[https://en.wikipedia.org/wiki/List_of_Falcon\\_9\\_and_Falcon_Heavy_launches](https://en.wikipedia.org/wiki/List_of_Falcon\\_9\\_and_Falcon_Heavy_launches?utm_medium=Exinfluencer&utm_source=Exinfluencer&utm_content=000026UJ&utm_term=10006555&utm_id=NA-SkillsNetwork-Channel-SkillsNetworkCoursesIBMDS0321ENSkillsNetwork26802033-2022-01-01)\n"
      ]
    },
    {
      "cell_type": "markdown",
      "metadata": {
        "id": "-lWmXoSUbrv4"
      },
      "source": [
        "![](https://cf-courses-data.s3.us.cloud-object-storage.appdomain.cloud/IBM-DS0321EN-SkillsNetwork/labs/module\\_1\\_L2/images/Falcon9\\_rocket_family.svg)\n"
      ]
    },
    {
      "cell_type": "markdown",
      "metadata": {
        "id": "u1TQ4K-pbrv5"
      },
      "source": [
        "Falcon 9 first stage will land successfully\n"
      ]
    },
    {
      "cell_type": "markdown",
      "metadata": {
        "id": "JlMPDUacbrv7"
      },
      "source": [
        "![](https://cf-courses-data.s3.us.cloud-object-storage.appdomain.cloud/IBMDeveloperSkillsNetwork-DS0701EN-SkillsNetwork/api/Images/landing\\_1.gif)\n"
      ]
    },
    {
      "cell_type": "markdown",
      "metadata": {
        "id": "RAcBVjKhbrv8"
      },
      "source": [
        "Several examples of an unsuccessful landing are shown here:\n"
      ]
    },
    {
      "cell_type": "markdown",
      "metadata": {
        "id": "LliKBuGLbrv9"
      },
      "source": [
        "![](https://cf-courses-data.s3.us.cloud-object-storage.appdomain.cloud/IBMDeveloperSkillsNetwork-DS0701EN-SkillsNetwork/api/Images/crash.gif)\n"
      ]
    },
    {
      "cell_type": "markdown",
      "metadata": {
        "id": "5IlOSquLbrv-"
      },
      "source": [
        "More specifically, the launch records are stored in a HTML table shown below:\n"
      ]
    },
    {
      "cell_type": "markdown",
      "metadata": {
        "id": "Bm6HhMctbrv_"
      },
      "source": [
        "![](https://cf-courses-data.s3.us.cloud-object-storage.appdomain.cloud/IBM-DS0321EN-SkillsNetwork/labs/module\\_1\\_L2/images/falcon9-launches-wiki.png)\n"
      ]
    },
    {
      "cell_type": "markdown",
      "metadata": {
        "id": "CvMsqeURbrwA"
      },
      "source": [
        "## Objectives\n",
        "\n",
        "Web scrap Falcon 9 launch records with `BeautifulSoup`:\n",
        "\n",
        "*   Extract a Falcon 9 launch records HTML table from Wikipedia\n",
        "*   Parse the table and convert it into a Pandas data frame\n"
      ]
    },
    {
      "cell_type": "markdown",
      "metadata": {
        "id": "glyMWo2ibrwB"
      },
      "source": [
        "First let's import required packages for this lab\n"
      ]
    },
    {
      "cell_type": "code",
      "execution_count": 1,
      "metadata": {
        "colab": {
          "base_uri": "https://localhost:8080/"
        },
        "id": "OECZnQWYbrwC",
        "outputId": "1b071aef-ebbc-4f63-b7fc-3cc9b2078822"
      },
      "outputs": [
        {
          "output_type": "stream",
          "name": "stdout",
          "text": [
            "Looking in indexes: https://pypi.org/simple, https://us-python.pkg.dev/colab-wheels/public/simple/\n",
            "Requirement already satisfied: beautifulsoup4 in /usr/local/lib/python3.7/dist-packages (4.6.3)\n",
            "Looking in indexes: https://pypi.org/simple, https://us-python.pkg.dev/colab-wheels/public/simple/\n",
            "Requirement already satisfied: requests in /usr/local/lib/python3.7/dist-packages (2.23.0)\n",
            "Requirement already satisfied: idna<3,>=2.5 in /usr/local/lib/python3.7/dist-packages (from requests) (2.10)\n",
            "Requirement already satisfied: certifi>=2017.4.17 in /usr/local/lib/python3.7/dist-packages (from requests) (2022.5.18.1)\n",
            "Requirement already satisfied: urllib3!=1.25.0,!=1.25.1,<1.26,>=1.21.1 in /usr/local/lib/python3.7/dist-packages (from requests) (1.24.3)\n",
            "Requirement already satisfied: chardet<4,>=3.0.2 in /usr/local/lib/python3.7/dist-packages (from requests) (3.0.4)\n"
          ]
        }
      ],
      "source": [
        "!pip3 install beautifulsoup4\n",
        "!pip3 install requests"
      ]
    },
    {
      "cell_type": "code",
      "execution_count": 30,
      "metadata": {
        "id": "FNgI5cN3brwD"
      },
      "outputs": [],
      "source": [
        "import sys\n",
        "\n",
        "import requests\n",
        "from bs4 import BeautifulSoup\n",
        "import re\n",
        "import unicodedata\n",
        "import pandas as pd\n",
        "import numpy as np"
      ]
    },
    {
      "cell_type": "markdown",
      "metadata": {
        "id": "ANPK1TFlbrwF"
      },
      "source": [
        "and we will provide some helper functions for you to process web scraped HTML table\n"
      ]
    },
    {
      "cell_type": "code",
      "execution_count": 3,
      "metadata": {
        "id": "J5e8pU--brwF"
      },
      "outputs": [],
      "source": [
        "def date_time(table_cells):\n",
        "    \"\"\"\n",
        "    This function returns the data and time from the HTML  table cell\n",
        "    Input: the  element of a table data cell extracts extra row\n",
        "    \"\"\"\n",
        "    return [data_time.strip() for data_time in list(table_cells.strings)][0:2]\n",
        "\n",
        "def booster_version(table_cells):\n",
        "    \"\"\"\n",
        "    This function returns the booster version from the HTML  table cell \n",
        "    Input: the  element of a table data cell extracts extra row\n",
        "    \"\"\"\n",
        "    out=''.join([booster_version for i,booster_version in enumerate( table_cells.strings) if i%2==0][0:-1])\n",
        "    return out\n",
        "\n",
        "def landing_status(table_cells):\n",
        "    \"\"\"\n",
        "    This function returns the landing status from the HTML table cell \n",
        "    Input: the  element of a table data cell extracts extra row\n",
        "    \"\"\"\n",
        "    out=[i for i in table_cells.strings][0]\n",
        "    return out\n",
        "\n",
        "\n",
        "def get_mass(table_cells):\n",
        "    mass=unicodedata.normalize(\"NFKD\", table_cells.text).strip()\n",
        "    if mass:\n",
        "        mass.find(\"kg\")\n",
        "        new_mass=mass[0:mass.find(\"kg\")+2]\n",
        "    else:\n",
        "        new_mass=0\n",
        "    return new_mass\n",
        "\n",
        "\n",
        "def extract_column_from_header(row):\n",
        "    \"\"\"\n",
        "    This function returns the landing status from the HTML table cell \n",
        "    Input: the  element of a table data cell extracts extra row\n",
        "    \"\"\"\n",
        "    if (row.br):\n",
        "        row.br.extract()\n",
        "    if row.a:\n",
        "        row.a.extract()\n",
        "    if row.sup:\n",
        "        row.sup.extract()\n",
        "        \n",
        "    colunm_name = ' '.join(row.contents)\n",
        "    \n",
        "    # Filter the digit and empty names\n",
        "    if not(colunm_name.strip().isdigit()):\n",
        "        colunm_name = colunm_name.strip()\n",
        "        return colunm_name    \n"
      ]
    },
    {
      "cell_type": "markdown",
      "metadata": {
        "id": "bmNg_61RbrwH"
      },
      "source": [
        "To keep the lab tasks consistent, you will be asked to scrape the data from a snapshot of the  `List of Falcon 9 and Falcon Heavy launches` Wikipage updated on\n",
        "`9th June 2021`\n"
      ]
    },
    {
      "cell_type": "code",
      "execution_count": 4,
      "metadata": {
        "id": "EmSPq7d-brwH"
      },
      "outputs": [],
      "source": [
        "static_url = \"https://en.wikipedia.org/w/index.php?title=List_of_Falcon_9_and_Falcon_Heavy_launches&oldid=1027686922\""
      ]
    },
    {
      "cell_type": "markdown",
      "metadata": {
        "id": "kFs40fqmbrwI"
      },
      "source": [
        "Next, request the HTML page from the above URL and get a `response` object\n"
      ]
    },
    {
      "cell_type": "markdown",
      "metadata": {
        "id": "kLL_geMPbrwJ"
      },
      "source": [
        "### TASK 1: Request the Falcon9 Launch Wiki page from its URL\n"
      ]
    },
    {
      "cell_type": "markdown",
      "metadata": {
        "id": "xAFgySu-brwJ"
      },
      "source": [
        "First, let's perform an HTTP GET method to request the Falcon9 Launch HTML page, as an HTTP response.\n"
      ]
    },
    {
      "cell_type": "code",
      "execution_count": 5,
      "metadata": {
        "id": "bNQDzJEbbrwK"
      },
      "outputs": [],
      "source": [
        "# use requests.get() method with the provided static_url\n",
        "# assign the response to a object\n",
        "response= requests.get(static_url)"
      ]
    },
    {
      "cell_type": "markdown",
      "metadata": {
        "id": "ThqYiQESbrwK"
      },
      "source": [
        "Create a `BeautifulSoup` object from the HTML `response`\n"
      ]
    },
    {
      "cell_type": "code",
      "execution_count": 8,
      "metadata": {
        "id": "xFF8JaiYbrwK"
      },
      "outputs": [],
      "source": [
        "# Use BeautifulSoup() to create a BeautifulSoup object from a response text content\n",
        "soup= BeautifulSoup(response.text)"
      ]
    },
    {
      "cell_type": "markdown",
      "metadata": {
        "id": "tUfwD_KtbrwL"
      },
      "source": [
        "Print the page title to verify if the `BeautifulSoup` object was created properly\n"
      ]
    },
    {
      "cell_type": "code",
      "execution_count": 9,
      "metadata": {
        "colab": {
          "base_uri": "https://localhost:8080/"
        },
        "id": "nvQrg1bPbrwL",
        "outputId": "11567126-7f6c-4a56-a124-a4dc25f83519"
      },
      "outputs": [
        {
          "output_type": "execute_result",
          "data": {
            "text/plain": [
              "<title>List of Falcon 9 and Falcon Heavy launches - Wikipedia</title>"
            ]
          },
          "metadata": {},
          "execution_count": 9
        }
      ],
      "source": [
        "# Use soup.title attribute\n",
        "soup.title"
      ]
    },
    {
      "cell_type": "markdown",
      "metadata": {
        "id": "caS21hZybrwM"
      },
      "source": [
        "### TASK 2: Extract all column/variable names from the HTML table header\n"
      ]
    },
    {
      "cell_type": "markdown",
      "metadata": {
        "id": "5REK-O2mbrwM"
      },
      "source": [
        "Next, we want to collect all relevant column names from the HTML table header\n"
      ]
    },
    {
      "cell_type": "markdown",
      "metadata": {
        "id": "ihptWSHfbrwM"
      },
      "source": [
        "Let's try to find all tables on the wiki page first. If you need to refresh your memory about `BeautifulSoup`, please check the external reference link towards the end of this lab\n"
      ]
    },
    {
      "cell_type": "code",
      "execution_count": 11,
      "metadata": {
        "id": "HbDsFQOsbrwN"
      },
      "outputs": [],
      "source": [
        "# Use the find_all function in the BeautifulSoup object, with element type `table`\n",
        "# Assign the result to a list called `html_tables`\n",
        "html_tables= soup.find_all('table')"
      ]
    },
    {
      "cell_type": "markdown",
      "metadata": {
        "id": "tFw7PT4TbrwN"
      },
      "source": [
        "Starting from the third table is our target table contains the actual launch records.\n"
      ]
    },
    {
      "cell_type": "code",
      "execution_count": null,
      "metadata": {
        "id": "Oijg6HQAbrwN"
      },
      "outputs": [],
      "source": [
        "# Let's print the third table and check its content\n",
        "first_launch_table = html_tables[2]\n",
        "print(first_launch_table)"
      ]
    },
    {
      "cell_type": "markdown",
      "metadata": {
        "id": "vw0kG91FbrwO"
      },
      "source": [
        "You should able to see the columns names embedded in the table header elements `<th>` as follows:\n"
      ]
    },
    {
      "cell_type": "markdown",
      "metadata": {
        "id": "d5n__F5DbrwO"
      },
      "source": [
        "```\n",
        "<tr>\n",
        "<th scope=\"col\">Flight No.\n",
        "</th>\n",
        "<th scope=\"col\">Date and<br/>time (<a href=\"/wiki/Coordinated_Universal_Time\" title=\"Coordinated Universal Time\">UTC</a>)\n",
        "</th>\n",
        "<th scope=\"col\"><a href=\"/wiki/List_of_Falcon_9_first-stage_boosters\" title=\"List of Falcon 9 first-stage boosters\">Version,<br/>Booster</a> <sup class=\"reference\" id=\"cite_ref-booster_11-0\"><a href=\"#cite_note-booster-11\">[b]</a></sup>\n",
        "</th>\n",
        "<th scope=\"col\">Launch site\n",
        "</th>\n",
        "<th scope=\"col\">Payload<sup class=\"reference\" id=\"cite_ref-Dragon_12-0\"><a href=\"#cite_note-Dragon-12\">[c]</a></sup>\n",
        "</th>\n",
        "<th scope=\"col\">Payload mass\n",
        "</th>\n",
        "<th scope=\"col\">Orbit\n",
        "</th>\n",
        "<th scope=\"col\">Customer\n",
        "</th>\n",
        "<th scope=\"col\">Launch<br/>outcome\n",
        "</th>\n",
        "<th scope=\"col\"><a href=\"/wiki/Falcon_9_first-stage_landing_tests\" title=\"Falcon 9 first-stage landing tests\">Booster<br/>landing</a>\n",
        "</th></tr>\n",
        "```\n"
      ]
    },
    {
      "cell_type": "markdown",
      "metadata": {
        "id": "LbtG9IqtbrwP"
      },
      "source": [
        "Next, we just need to iterate through the `<th>` elements and apply the provided `extract_column_from_header()` to extract column name one by one\n"
      ]
    },
    {
      "cell_type": "code",
      "execution_count": 16,
      "metadata": {
        "id": "1JdP1wbZbrwP"
      },
      "outputs": [],
      "source": [
        "column_names = []\n",
        "\n",
        "# Apply find_all() function with `th` element on first_launch_table\n",
        "# Iterate each th element and apply the provided extract_column_from_header() to get a column name\n",
        "# Append the Non-empty column name (`if name is not None and len(name) > 0`) into a list called column_names\n",
        "\n",
        "th_elements= first_launch_table.find_all('th')\n",
        "\n",
        "for element in th_elements:\n",
        "  column_name= extract_column_from_header(element)\n",
        "  if column_name is not None and len(column_name) > 0:\n",
        "    column_names.append(column_name)\n"
      ]
    },
    {
      "cell_type": "markdown",
      "metadata": {
        "id": "rS_qf4h6brwQ"
      },
      "source": [
        "Check the extracted column names\n"
      ]
    },
    {
      "cell_type": "code",
      "execution_count": 17,
      "metadata": {
        "colab": {
          "base_uri": "https://localhost:8080/"
        },
        "id": "_YQKEPQvbrwQ",
        "outputId": "ac223943-35d6-455f-9fb8-fc653dd27480"
      },
      "outputs": [
        {
          "output_type": "stream",
          "name": "stdout",
          "text": [
            "['Flight No.', 'Date and time ( )', 'Launch site', 'Payload', 'Payload mass', 'Orbit', 'Customer', 'Launch outcome']\n"
          ]
        }
      ],
      "source": [
        "print(column_names)"
      ]
    },
    {
      "cell_type": "markdown",
      "metadata": {
        "id": "sSmHZqIlbrwQ"
      },
      "source": [
        "## TASK 3: Create a data frame by parsing the launch HTML tables\n"
      ]
    },
    {
      "cell_type": "markdown",
      "metadata": {
        "id": "jCw5EPO3brwR"
      },
      "source": [
        "We will create an empty dictionary with keys from the extracted column names in the previous task. Later, this dictionary will be converted into a Pandas dataframe\n"
      ]
    },
    {
      "cell_type": "code",
      "execution_count": 20,
      "metadata": {
        "id": "CZ4s2GTCbrwR"
      },
      "outputs": [],
      "source": [
        "launch_dict= dict.fromkeys(column_names)\n",
        "\n",
        "# Remove an irrelvant column\n",
        "del launch_dict['Date and time ( )']\n",
        "\n",
        "# Let's initial the launch_dict with each value to be an empty list\n",
        "launch_dict['Flight No.'] = []\n",
        "launch_dict['Launch site'] = []\n",
        "launch_dict['Payload'] = []\n",
        "launch_dict['Payload mass'] = []\n",
        "launch_dict['Orbit'] = []\n",
        "launch_dict['Customer'] = []\n",
        "launch_dict['Launch outcome'] = []\n",
        "# Added some new columns\n",
        "launch_dict['Version Booster']=[]\n",
        "launch_dict['Booster landing']=[]\n",
        "launch_dict['Date']=[]\n",
        "launch_dict['Time']=[]"
      ]
    },
    {
      "cell_type": "markdown",
      "metadata": {
        "id": "9TGfITBMbrwR"
      },
      "source": [
        "Next, we just need to fill up the `launch_dict` with launch records extracted from table rows.\n"
      ]
    },
    {
      "cell_type": "markdown",
      "metadata": {
        "id": "n1ZXcORmbrwS"
      },
      "source": [
        "Usually, HTML tables in Wiki pages are likely to contain unexpected annotations and other types of noises, such as reference links `B0004.1[8]`, missing values `N/A [e]`, inconsistent formatting, etc.\n"
      ]
    },
    {
      "cell_type": "markdown",
      "metadata": {
        "id": "e34E-ZQqbrwS"
      },
      "source": [
        "To simplify the parsing process, we have provided an incomplete code snippet below to help you to fill up the `launch_dict`. Please complete the following code snippet with TODOs or you can choose to write your own logic to parse all launch tables:\n"
      ]
    },
    {
      "cell_type": "code",
      "execution_count": 31,
      "metadata": {
        "colab": {
          "base_uri": "https://localhost:8080/"
        },
        "id": "DG3YiQySbrwS",
        "outputId": "0d61666f-0269-46c8-a24d-59244615f3af"
      },
      "outputs": [
        {
          "output_type": "stream",
          "name": "stdout",
          "text": [
            "1\n",
            "4 June 2010\n",
            "18:45\n",
            "F9 v1.0B0003.1\n",
            "CCAFS\n",
            "Dragon Spacecraft Qualification Unit\n",
            "Dragon Spacecraft Qualification Unit\n",
            "LEO\n",
            "<a href=\"/wiki/SpaceX\" title=\"SpaceX\">SpaceX</a>\n",
            "2\n",
            "8 December 2010\n",
            "15:43\n",
            "F9 v1.0B0004.1\n",
            "CCAFS\n",
            "Dragon\n",
            "Dragon\n",
            "LEO\n",
            "<a href=\"/wiki/NASA\" title=\"NASA\">NASA</a>\n",
            "3\n",
            "22 May 2012\n",
            "07:44\n",
            "F9 v1.0B0005.1\n",
            "CCAFS\n",
            "Dragon\n",
            "Dragon\n",
            "LEO\n",
            "<a href=\"/wiki/NASA\" title=\"NASA\">NASA</a>\n",
            "4\n",
            "8 October 2012\n",
            "00:35\n",
            "F9 v1.0B0006.1\n",
            "CCAFS\n",
            "SpaceX CRS-1\n",
            "SpaceX CRS-1\n",
            "LEO\n",
            "<a href=\"/wiki/NASA\" title=\"NASA\">NASA</a>\n",
            "5\n",
            "1 March 2013\n",
            "15:10\n",
            "F9 v1.0B0007.1\n",
            "CCAFS\n",
            "SpaceX CRS-2\n",
            "SpaceX CRS-2\n",
            "LEO\n",
            "<a href=\"/wiki/NASA\" title=\"NASA\">NASA</a>\n",
            "6\n",
            "29 September 2013\n",
            "16:00\n",
            "F9 v1.1B1003\n",
            "VAFB\n",
            "CASSIOPE\n",
            "CASSIOPE\n",
            "Polar orbit\n",
            "<a href=\"/wiki/Maxar_Technologies\" title=\"Maxar Technologies\">MDA</a>\n",
            "7\n",
            "3 December 2013\n",
            "22:41\n",
            "F9 v1.1\n",
            "CCAFS\n",
            "SES-8\n",
            "SES-8\n",
            "GTO\n",
            "<a href=\"/wiki/SES_S.A.\" title=\"SES S.A.\">SES</a>\n",
            "8\n",
            "6 January 2014\n",
            "22:06\n",
            "F9 v1.1\n",
            "CCAFS\n",
            "Thaicom 6\n",
            "Thaicom 6\n",
            "GTO\n",
            "<a href=\"/wiki/Thaicom\" title=\"Thaicom\">Thaicom</a>\n",
            "9\n",
            "18 April 2014\n",
            "19:25\n",
            "F9 v1.1\n",
            "Cape Canaveral\n",
            "SpaceX CRS-3\n",
            "SpaceX CRS-3\n",
            "LEO\n",
            "<a href=\"/wiki/NASA\" title=\"NASA\">NASA</a>\n",
            "10\n",
            "14 July 2014\n",
            "15:15\n",
            "F9 v1.1\n",
            "Cape Canaveral\n",
            "Orbcomm-OG2\n",
            "Orbcomm-OG2\n",
            "LEO\n",
            "<a href=\"/wiki/Orbcomm\" title=\"Orbcomm\">Orbcomm</a>\n",
            "11\n",
            "5 August 2014\n",
            "08:00\n",
            "F9 v1.1\n",
            "Cape Canaveral\n",
            "AsiaSat 8\n",
            "AsiaSat 8\n",
            "GTO\n",
            "<a href=\"/wiki/AsiaSat\" title=\"AsiaSat\">AsiaSat</a>\n",
            "12\n",
            "7 September 2014\n",
            "05:00\n",
            "F9 v1.1\n",
            "Cape Canaveral\n",
            "AsiaSat 6\n",
            "AsiaSat 6\n",
            "GTO\n",
            "<a href=\"/wiki/AsiaSat\" title=\"AsiaSat\">AsiaSat</a>\n",
            "13\n",
            "21 September 2014\n",
            "05:52\n",
            "F9 v1.1\n",
            "Cape Canaveral\n",
            "SpaceX CRS-4\n",
            "SpaceX CRS-4\n",
            "LEO\n",
            "<a href=\"/wiki/NASA\" title=\"NASA\">NASA</a>\n",
            "14\n",
            "10 January 2015\n",
            "09:47\n",
            "F9 v1.1\n",
            "Cape Canaveral\n",
            "SpaceX CRS-5\n",
            "SpaceX CRS-5\n",
            "LEO\n",
            "<a href=\"/wiki/NASA\" title=\"NASA\">NASA</a>\n",
            "15\n",
            "11 February 2015\n",
            "23:03\n",
            "F9 v1.1\n",
            "Cape Canaveral\n",
            "DSCOVR\n",
            "DSCOVR\n",
            "HEO\n",
            "<a href=\"/wiki/United_States_Air_Force\" title=\"United States Air Force\">USAF</a>\n",
            "16\n",
            "2 March 2015\n",
            "03:50\n",
            "F9 v1.1\n",
            "Cape Canaveral\n",
            "ABS-3A\n",
            "ABS-3A\n",
            "GTO\n",
            "<a class=\"mw-redirect\" href=\"/wiki/Asia_Broadcast_Satellite\" title=\"Asia Broadcast Satellite\">ABS</a>\n",
            "17\n",
            "14 April 2015\n",
            "20:10\n",
            "F9 v1.1\n",
            "Cape Canaveral\n",
            "SpaceX CRS-6\n",
            "SpaceX CRS-6\n",
            "LEO\n",
            "<a href=\"/wiki/NASA\" title=\"NASA\">NASA</a>\n",
            "18\n",
            "27 April 2015\n",
            "23:03\n",
            "F9 v1.1\n",
            "Cape Canaveral\n",
            "TürkmenÄlem 52°E / MonacoSAT\n",
            "TürkmenÄlem 52°E / MonacoSAT\n",
            "GTO\n",
            "<a href=\"/wiki/Turkmenistan_National_Space_Agency\" title=\"Turkmenistan National Space Agency\">Turkmenistan National<br/>Space Agency</a>\n",
            "19\n",
            "28 June 2015\n",
            "14:21\n",
            "F9 v1.1\n",
            "Cape Canaveral\n",
            "SpaceX CRS-7\n",
            "SpaceX CRS-7\n",
            "LEO\n",
            "<a href=\"/wiki/NASA\" title=\"NASA\">NASA</a>\n",
            "20\n",
            "22 December 2015\n",
            "01:29\n",
            "F9 FT\n",
            "Cape Canaveral\n",
            "Orbcomm-OG2\n",
            "Orbcomm-OG2\n",
            "LEO\n",
            "<a href=\"/wiki/Orbcomm\" title=\"Orbcomm\">Orbcomm</a>\n",
            "21\n",
            "17 January 2016\n",
            "18:42\n",
            "F9 v1.1\n",
            "VAFB\n",
            "Jason-3\n",
            "Jason-3\n",
            "LEO\n",
            "<a href=\"/wiki/NASA\" title=\"NASA\">NASA</a>\n",
            "22\n",
            "4 March 2016\n",
            "23:35\n",
            "F9 FT\n",
            "Cape Canaveral\n",
            "SES-9\n",
            "SES-9\n",
            "GTO\n",
            "<a href=\"/wiki/SES_S.A.\" title=\"SES S.A.\">SES</a>\n",
            "23\n",
            "8 April 2016\n",
            "20:43\n",
            "F9 FT\n",
            "Cape Canaveral\n",
            "SpaceX CRS-8\n",
            "SpaceX CRS-8\n",
            "LEO\n",
            "<a href=\"/wiki/NASA\" title=\"NASA\">NASA</a>\n",
            "24\n",
            "6 May 2016\n",
            "05:21\n",
            "F9 FT\n",
            "Cape Canaveral\n",
            "JCSAT-14\n",
            "JCSAT-14\n",
            "GTO\n",
            "<a href=\"/wiki/SKY_Perfect_JSAT\" title=\"SKY Perfect JSAT\">SKY Perfect JSAT Group</a>\n",
            "25\n",
            "27 May 2016\n",
            "21:39\n",
            "F9 FT\n",
            "Cape Canaveral\n",
            "Thaicom 8\n",
            "Thaicom 8\n",
            "GTO\n",
            "<a href=\"/wiki/Thaicom\" title=\"Thaicom\">Thaicom</a>\n",
            "26\n",
            "15 June 2016\n",
            "14:29\n",
            "F9 FT\n",
            "Cape Canaveral\n",
            "ABS-2A\n",
            "ABS-2A\n",
            "GTO\n",
            "<a class=\"mw-redirect\" href=\"/wiki/Asia_Broadcast_Satellite\" title=\"Asia Broadcast Satellite\">ABS</a>\n",
            "27\n",
            "18 July 2016\n",
            "04:45\n",
            "F9 FT\n",
            "Cape Canaveral\n",
            "SpaceX CRS-9\n",
            "SpaceX CRS-9\n",
            "LEO\n",
            "<a href=\"/wiki/NASA\" title=\"NASA\">NASA</a>\n",
            "28\n",
            "14 August 2016\n",
            "05:26\n",
            "F9 FT\n",
            "Cape Canaveral\n",
            "JCSAT-16\n",
            "JCSAT-16\n",
            "GTO\n",
            "<a class=\"mw-redirect\" href=\"/wiki/SKY_Perfect_JSAT_Group\" title=\"SKY Perfect JSAT Group\">SKY Perfect JSAT Group</a>\n",
            "29\n",
            "14 January 2017\n",
            "17:54\n",
            "F9 FT\n",
            "VAFB\n",
            "Iridium NEXT\n",
            "Iridium NEXT\n",
            "Polar\n",
            "<a href=\"/wiki/Iridium_Communications\" title=\"Iridium Communications\">Iridium Communications</a>\n",
            "30\n",
            "19 February 2017\n",
            "14:39\n",
            "F9 FT\n",
            "KSC\n",
            "SpaceX CRS-10\n",
            "SpaceX CRS-10\n",
            "LEO\n",
            "<a href=\"/wiki/NASA\" title=\"NASA\">NASA</a>\n",
            "31\n",
            "16 March 2017\n",
            "06:00\n",
            "F9 FT\n",
            "KSC\n",
            "EchoStar 23\n",
            "EchoStar 23\n",
            "GTO\n",
            "<a href=\"/wiki/EchoStar\" title=\"EchoStar\">EchoStar</a>\n",
            "32\n",
            "30 March 2017\n",
            "22:27\n",
            "F9 FT♺\n",
            "KSC\n",
            "SES-10\n",
            "SES-10\n",
            "GTO\n",
            "<a href=\"/wiki/SES_S.A.\" title=\"SES S.A.\">SES</a>\n",
            "33\n",
            "1 May 2017\n",
            "11:15\n",
            "F9 FT\n",
            "KSC\n",
            "NROL-76\n",
            "NROL-76\n",
            "LEO\n",
            "<a href=\"/wiki/National_Reconnaissance_Office\" title=\"National Reconnaissance Office\">NRO</a>\n",
            "34\n",
            "15 May 2017\n",
            "23:21\n",
            "F9 FT\n",
            "KSC\n",
            "Inmarsat-5 F4\n",
            "Inmarsat-5 F4\n",
            "GTO\n",
            "<a href=\"/wiki/Inmarsat\" title=\"Inmarsat\">Inmarsat</a>\n",
            "35\n",
            "3 June 2017\n",
            "21:07\n",
            "F9 FT\n",
            "KSC\n",
            "SpaceX CRS-11\n",
            "SpaceX CRS-11\n",
            "LEO\n",
            "<a href=\"/wiki/NASA\" title=\"NASA\">NASA</a>\n",
            "36\n",
            "23 June 2017\n",
            "19:10\n",
            "F9 FTB1029.2\n",
            "KSC\n",
            "BulgariaSat-1\n",
            "BulgariaSat-1\n",
            "GTO\n",
            "<a href=\"/wiki/Bulsatcom\" title=\"Bulsatcom\">Bulsatcom</a>\n",
            "37\n",
            "25 June 2017\n",
            "20:25\n",
            "F9 FT\n",
            "VAFB\n",
            "Iridium NEXT\n",
            "Iridium NEXT\n",
            "LEO\n",
            "<a href=\"/wiki/Iridium_Communications\" title=\"Iridium Communications\">Iridium Communications</a>\n",
            "38\n",
            "5 July 2017\n",
            "23:38\n",
            "F9 FT\n",
            "KSC\n",
            "Intelsat 35e\n",
            "Intelsat 35e\n",
            "GTO\n",
            "<a href=\"/wiki/Intelsat\" title=\"Intelsat\">Intelsat</a>\n",
            "39\n",
            "14 August 2017\n",
            "16:31\n",
            "F9 B4\n",
            "KSC\n",
            "SpaceX CRS-12\n",
            "SpaceX CRS-12\n",
            "LEO\n",
            "<a href=\"/wiki/NASA\" title=\"NASA\">NASA</a>\n",
            "40\n",
            "24 August 2017\n",
            "18:51\n",
            "F9 FT\n",
            "VAFB\n",
            "Formosat-5\n",
            "Formosat-5\n",
            "SSO\n",
            "<a href=\"/wiki/National_Space_Organization\" title=\"National Space Organization\">NSPO</a>\n",
            "41\n",
            "7 September 2017\n",
            "14:00\n",
            "F9 B4\n",
            "KSC\n",
            "Boeing X-37B\n",
            "Boeing X-37B\n",
            "LEO\n",
            "<a href=\"/wiki/United_States_Air_Force\" title=\"United States Air Force\">USAF</a>\n",
            "42\n",
            "9 October 2017\n",
            "12:37\n",
            "F9 B4\n",
            "VAFB\n",
            "Iridium NEXT\n",
            "Iridium NEXT\n",
            "Polar\n",
            "<a href=\"/wiki/Iridium_Communications\" title=\"Iridium Communications\">Iridium Communications</a>\n",
            "43\n",
            "11 October 2017\n",
            "22:53:00\n",
            "F9 FTB1031.2\n",
            "KSC\n",
            "SES-11\n",
            "SES-11\n",
            "GTO\n",
            "<a href=\"/wiki/SES_S.A.\" title=\"SES S.A.\">SES S.A.</a>\n",
            "44\n",
            "30 October 2017\n",
            "19:34\n",
            "F9 B4\n",
            "KSC\n",
            "Koreasat 5A\n",
            "Koreasat 5A\n",
            "GTO\n",
            "<a href=\"/wiki/KT_Corporation\" title=\"KT Corporation\">KT Corporation</a>\n",
            "45\n",
            "15 December 2017\n",
            "15:36\n",
            "F9 FTB1035.2\n",
            "Cape Canaveral\n",
            "SpaceX CRS-13\n",
            "SpaceX CRS-13\n",
            "LEO\n",
            "<a href=\"/wiki/NASA\" title=\"NASA\">NASA</a>\n",
            "46\n",
            "23 December 2017\n",
            "01:27\n",
            "F9 FTB1036.2\n",
            "VAFB\n",
            "Iridium NEXT\n",
            "Iridium NEXT\n",
            "Polar\n",
            "<a href=\"/wiki/Iridium_Communications\" title=\"Iridium Communications\">Iridium Communications</a>\n",
            "47\n",
            "8 January 2018\n",
            "01:00\n",
            "F9 B4\n",
            "CCAFS\n",
            "Zuma\n",
            "Zuma\n",
            "LEO\n",
            "<a href=\"/wiki/Northrop_Grumman\" title=\"Northrop Grumman\">Northrop Grumman</a>\n",
            "48\n",
            "31 January 2018\n",
            "21:25\n",
            "F9 FTB1032.2\n",
            "CCAFS\n",
            "GovSat-1\n",
            "GovSat-1\n",
            "GTO\n",
            "<a href=\"/wiki/SES_S.A.\" title=\"SES S.A.\">SES</a>\n",
            "49\n",
            "22 February 2018\n",
            "14:17\n",
            "F9 FTB1038.2\n",
            "VAFB\n",
            "Paz\n",
            "Paz\n",
            "SSO\n",
            "<a href=\"/wiki/Hisdesat\" title=\"Hisdesat\">Hisdesat</a>\n",
            "50\n",
            "6 March 2018\n",
            "05:33\n",
            "F9 B4\n",
            "CCAFS\n",
            "Hispasat 30W-6\n",
            "Hispasat 30W-6\n",
            "GTO\n",
            "<a href=\"/wiki/Hispasat\" title=\"Hispasat\">Hispasat</a>\n",
            "51\n",
            "30 March 2018\n",
            "14:14\n",
            "F9 B4B1041.2\n",
            "VAFB\n",
            "Iridium NEXT\n",
            "Iridium NEXT\n",
            "Polar\n",
            "<a href=\"/wiki/Iridium_Communications\" title=\"Iridium Communications\">Iridium Communications</a>\n",
            "52\n",
            "2 April 2018\n",
            "20:30\n",
            "F9 B4B1039.2\n",
            "CCAFS\n",
            "SpaceX CRS-14\n",
            "SpaceX CRS-14\n",
            "LEO\n",
            "<a href=\"/wiki/NASA\" title=\"NASA\">NASA</a>\n",
            "53\n",
            "18 April 2018\n",
            "22:51\n",
            "F9 B4\n",
            "CCAFS\n",
            "Transiting Exoplanet Survey Satellite\n",
            "Transiting Exoplanet Survey Satellite\n",
            "HEO\n",
            "<a href=\"/wiki/NASA\" title=\"NASA\">NASA</a>\n",
            "54\n",
            "11 May 2018\n",
            "20:14\n",
            "F9 B5B1046.1\n",
            "KSC\n",
            "Bangabandhu-1\n",
            "Bangabandhu-1\n",
            "GTO\n",
            "<a href=\"/wiki/Thales_Alenia_Space\" title=\"Thales Alenia Space\">Thales-Alenia</a>\n",
            "55\n",
            "22 May 2018\n",
            "19:47\n",
            "F9 B4B1043.2\n",
            "VAFB\n",
            "Iridium NEXT\n",
            "Iridium NEXT\n",
            "Polar\n",
            "<a href=\"/wiki/Iridium_Communications\" title=\"Iridium Communications\">Iridium Communications</a>\n",
            "56\n",
            "4 June 2018\n",
            "04:45\n",
            "F9 B4B1040.2\n",
            "CCAFS\n",
            "SES-12\n",
            "SES-12\n",
            "GTO\n",
            "<a href=\"/wiki/SES_S.A.\" title=\"SES S.A.\">SES</a>\n",
            "57\n",
            "29 June 2018\n",
            "09:42\n",
            "F9 B4B1045.2\n",
            "CCAFS\n",
            "SpaceX CRS-15\n",
            "SpaceX CRS-15\n",
            "LEO\n",
            "<a href=\"/wiki/NASA\" title=\"NASA\">NASA</a>\n",
            "58\n",
            "22 July 2018\n",
            "05:50\n",
            "F9 B5\n",
            "CCAFS\n",
            "Telstar 19V\n",
            "Telstar 19V\n",
            "GTO\n",
            "<a href=\"/wiki/Telesat\" title=\"Telesat\">Telesat</a>\n",
            "59\n",
            "25 July 2018\n",
            "11:39\n",
            "F9 B5B1048\n",
            "VAFB\n",
            "Iridium NEXT\n",
            "Iridium NEXT\n",
            "Polar\n",
            "<a href=\"/wiki/Iridium_Communications\" title=\"Iridium Communications\">Iridium Communications</a>\n",
            "60\n",
            "7 August 2018\n",
            "05:18\n",
            "F9 B5B1046.2\n",
            "CCAFS\n",
            "Merah Putih\n",
            "Merah Putih\n",
            "GTO\n",
            "<a href=\"/wiki/Telkom_Indonesia\" title=\"Telkom Indonesia\">Telkom Indonesia</a>\n",
            "61\n",
            "10 September 2018\n",
            "04:45\n",
            "F9 B5\n",
            "CCAFS\n",
            "Telstar 18V\n",
            "Telstar 18V\n",
            "GTO\n",
            "<a href=\"/wiki/Telesat\" title=\"Telesat\">Telesat</a>\n",
            "62\n",
            "8 October 2018\n",
            "02:22\n",
            "F9 B5B1048.2\n",
            "VAFB\n",
            "SAOCOM 1A\n",
            "SAOCOM 1A\n",
            "SSO\n",
            "<a href=\"/wiki/Comisi%C3%B3n_Nacional_de_Actividades_Espaciales\" title=\"Comisión Nacional de Actividades Espaciales\">CONAE</a>\n",
            "63\n",
            "15 November 2018\n",
            "20:46\n",
            "F9 B5B1047.2\n",
            "KSC\n",
            "Es'hail 2\n",
            "Es'hail 2\n",
            "GTO\n",
            "<a href=\"/wiki/Es%27hailSat\" title=\"Es'hailSat\">Es'hailSat</a>\n",
            "64\n",
            "3 December 2018\n",
            "18:34:05\n",
            "F9 B5B1046.3\n",
            "VAFB\n",
            "SSO-A\n",
            "SSO-A\n",
            "SSO\n",
            "<a href=\"/wiki/Spaceflight_Industries\" title=\"Spaceflight Industries\">Spaceflight Industries</a>\n",
            "65\n",
            "5 December 2018\n",
            "18:16\n",
            "F9 B5\n",
            "CCAFS\n",
            "SpaceX CRS-16\n",
            "SpaceX CRS-16\n",
            "LEO\n",
            "<a href=\"/wiki/NASA\" title=\"NASA\">NASA</a>\n",
            "66\n",
            "23 December 2018\n",
            "13:51\n",
            "F9 B5\n",
            "CCAFS\n",
            "GPS III\n",
            "GPS III\n",
            "MEO\n",
            "<a href=\"/wiki/United_States_Air_Force\" title=\"United States Air Force\">USAF</a>\n",
            "67\n",
            "11 January 2019\n",
            "15:31\n",
            "F9 B5B1049.2\n",
            "VAFB\n",
            "Iridium NEXT\n",
            "Iridium NEXT\n",
            "Polar\n",
            "<a href=\"/wiki/Iridium_Communications\" title=\"Iridium Communications\">Iridium Communications</a>\n",
            "68\n",
            "22 February 2019\n",
            "01:45\n",
            "F9 B5B1048.3\n",
            "CCAFS\n",
            "Nusantara Satu\n",
            "Nusantara Satu\n",
            "GTO\n",
            "<a href=\"/wiki/PT_Pasifik_Satelit_Nusantara\" title=\"PT Pasifik Satelit Nusantara\">PSN</a>\n",
            "69\n",
            "2 March 2019\n",
            "07:49\n",
            "F9 B5[268]\n",
            "KSC\n",
            "Crew Dragon Demo-1\n",
            "Crew Dragon Demo-1\n",
            "LEO\n",
            "<a href=\"/wiki/NASA\" title=\"NASA\">NASA</a>\n",
            "70\n",
            "4 May 2019\n",
            "06:48\n",
            "F9 B5\n",
            "CCAFS\n",
            "SpaceX CRS-17\n",
            "SpaceX CRS-17\n",
            "LEO\n",
            "<a href=\"/wiki/NASA\" title=\"NASA\">NASA</a>\n",
            "71\n",
            "24 May 2019\n",
            "02:30\n",
            "F9 B5B1049.3\n",
            "CCAFS\n",
            "Starlink\n",
            "Starlink\n",
            "LEO\n",
            "<a href=\"/wiki/SpaceX\" title=\"SpaceX\">SpaceX</a>\n",
            "72\n",
            "12 June 2019\n",
            "14:17\n",
            "F9 B5B1051.2\n",
            "VAFB\n",
            "RADARSAT Constellation\n",
            "RADARSAT Constellation\n",
            "SSO\n",
            "<a href=\"/wiki/Canadian_Space_Agency\" title=\"Canadian Space Agency\">Canadian Space Agency</a>\n",
            "73\n",
            "25 July 2019\n",
            "22:01\n",
            "F9 B5B1056.2\n",
            "CCAFS\n",
            "SpaceX CRS-18\n",
            "SpaceX CRS-18\n",
            "LEO\n",
            "<a href=\"/wiki/NASA\" title=\"NASA\">NASA</a>\n",
            "74\n",
            "6 August 2019\n",
            "23:23\n",
            "F9 B5B1047.3\n",
            "CCAFS\n",
            "AMOS-17\n",
            "AMOS-17\n",
            "GTO\n",
            "<a href=\"/wiki/Spacecom\" title=\"Spacecom\">Spacecom</a>\n",
            "75\n",
            "11 November 2019\n",
            "14:56\n",
            "F9 B5\n",
            "CCAFS\n",
            "Starlink\n",
            "Starlink\n",
            "LEO\n",
            "<a href=\"/wiki/Spacecom\" title=\"Spacecom\">SpaceX</a>\n",
            "76\n",
            "5 December 2019\n",
            "17:29\n",
            "F9 B5\n",
            "CCAFS\n",
            "SpaceX CRS-19\n",
            "SpaceX CRS-19\n",
            "LEO\n",
            "<a href=\"/wiki/NASA\" title=\"NASA\">NASA</a>\n",
            "77\n",
            "17 December 2019\n",
            "00:10\n",
            "F9 B5B1056.3\n",
            "CCAFS\n",
            "JCSat-18\n",
            "JCSat-18\n",
            "GTO\n",
            "<a class=\"mw-redirect\" href=\"/wiki/SKY_Perfect_JSAT_Group\" title=\"SKY Perfect JSAT Group\">Sky Perfect JSAT</a>\n",
            "78\n",
            "7 January 2020\n",
            "02:19:21\n",
            "F9 B5\n",
            "CCAFS\n",
            "Starlink\n",
            "Starlink\n",
            "LEO\n",
            "<a href=\"/wiki/SpaceX\" title=\"SpaceX\">SpaceX</a>\n",
            "79\n",
            "19 January 2020\n",
            "15:30\n",
            "F9 B5\n",
            "KSC\n",
            "Crew Dragon in-flight abort test\n",
            "Crew Dragon in-flight abort test\n",
            "Sub-orbital\n",
            "<a href=\"/wiki/NASA\" title=\"NASA\">NASA</a>\n",
            "80\n",
            "29 January 2020\n",
            "14:07\n",
            "F9 B5\n",
            "CCAFS\n",
            "Starlink\n",
            "Starlink\n",
            "LEO\n",
            "<a href=\"/wiki/SpaceX\" title=\"SpaceX\">SpaceX</a>\n",
            "81\n",
            "17 February 2020\n",
            "15:05\n",
            "F9 B5\n",
            "CCAFS\n",
            "Starlink\n",
            "Starlink\n",
            "LEO\n",
            "<a href=\"/wiki/SpaceX\" title=\"SpaceX\">SpaceX</a>\n",
            "82\n",
            "7 March 2020\n",
            "04:50\n",
            "F9 B5\n",
            "CCAFS\n",
            "SpaceX CRS-20\n",
            "SpaceX CRS-20\n",
            "LEO\n",
            "<a href=\"/wiki/NASA\" title=\"NASA\">NASA</a>\n",
            "83\n",
            "18 March 2020\n",
            "12:16\n",
            "F9 B5\n",
            "KSC\n",
            "Starlink\n",
            "Starlink\n",
            "LEO\n",
            "<a href=\"/wiki/SpaceX\" title=\"SpaceX\">SpaceX</a>\n",
            "84\n",
            "22 April 2020\n",
            "19:30\n",
            "F9 B5\n",
            "KSC\n",
            "Starlink\n",
            "Starlink\n",
            "LEO\n",
            "<a href=\"/wiki/SpaceX\" title=\"SpaceX\">SpaceX</a>\n",
            "85\n",
            "30 May 2020\n",
            "19:22\n",
            "F9 B5\n",
            "KSC\n",
            "Crew Dragon Demo-2\n",
            "Crew Dragon Demo-2\n",
            "LEO\n",
            "<a href=\"/wiki/NASA\" title=\"NASA\">NASA</a>\n",
            "86\n",
            "4 June 2020\n",
            "01:25\n",
            "F9 B5\n",
            "CCAFS\n",
            "Starlink\n",
            "Starlink\n",
            "LEO\n",
            "<a href=\"/wiki/SpaceX\" title=\"SpaceX\">SpaceX</a>\n",
            "87\n",
            "13 June 2020\n",
            "09:21\n",
            "F9 B5\n",
            "CCAFS\n",
            "Starlink\n",
            "Starlink\n",
            "LEO\n",
            "<a href=\"/wiki/SpaceX\" title=\"SpaceX\">SpaceX</a>\n",
            "88\n",
            "30 June 2020\n",
            "20:10:46\n",
            "F9 B5\n",
            "CCAFS\n",
            "GPS III\n",
            "GPS III\n",
            "MEO\n",
            "<a href=\"/wiki/United_States_Space_Force\" title=\"United States Space Force\">U.S. Space Force</a>\n",
            "89\n",
            "20 July 2020\n",
            "21:30\n",
            "F9 B5B1058.2\n",
            "CCAFS\n",
            "ANASIS-II\n",
            "ANASIS-II\n",
            "GTO\n",
            "<a href=\"/wiki/Republic_of_Korea_Army\" title=\"Republic of Korea Army\">Republic of Korea Army</a>\n",
            "90\n",
            "7 August 2020\n",
            "05:12\n",
            "F9 B5\n",
            "KSC\n",
            "Starlink\n",
            "Starlink\n",
            "LEO\n",
            "<a href=\"/wiki/SpaceX\" title=\"SpaceX\">SpaceX</a>\n",
            "91\n",
            "18 August 2020\n",
            "14:31\n",
            "F9 B5B1049.6\n",
            "CCAFS\n",
            "Starlink\n",
            "Starlink\n",
            "LEO\n",
            "<a href=\"/wiki/SpaceX\" title=\"SpaceX\">SpaceX</a>\n",
            "92\n",
            "30 August 2020\n",
            "23:18\n",
            "F9 B5\n",
            "CCAFS\n",
            "SAOCOM 1B\n",
            "SAOCOM 1B\n",
            "SSO\n",
            "<a class=\"mw-redirect\" href=\"/wiki/CONAE\" title=\"CONAE\">CONAE</a>\n",
            "93\n",
            "3 September 2020\n",
            "12:46:14\n",
            "F9 B5B1060.2\n",
            "KSC\n",
            "Starlink\n",
            "Starlink\n",
            "LEO\n",
            "<a href=\"/wiki/SpaceX\" title=\"SpaceX\">SpaceX</a>\n",
            "94\n",
            "6 October 2020\n",
            "11:29:34\n",
            "F9 B5B1058.3\n",
            "KSC\n",
            "Starlink\n",
            "Starlink\n",
            "LEO\n",
            "<a href=\"/wiki/SpaceX\" title=\"SpaceX\">SpaceX</a>\n",
            "95\n",
            "18 October 2020\n",
            "12:25:57\n",
            "F9 B5B1051.6\n",
            "KSC\n",
            "Starlink\n",
            "Starlink\n",
            "LEO\n",
            "<a href=\"/wiki/SpaceX\" title=\"SpaceX\">SpaceX</a>\n",
            "96\n",
            "24 October 2020\n",
            "15:31:34\n",
            "F9 B5\n",
            "CCAFS\n",
            "Starlink\n",
            "Starlink\n",
            "LEO\n",
            "<a href=\"/wiki/SpaceX\" title=\"SpaceX\">SpaceX</a>\n",
            "97\n",
            "5 November 2020\n",
            "23:24:23\n",
            "F9 B5\n",
            "CCAFS\n",
            "GPS III\n",
            "GPS III\n",
            "MEO\n",
            "<a href=\"/wiki/United_States_Space_Force\" title=\"United States Space Force\">USSF</a>\n",
            "98\n",
            "16 November 2020\n",
            "00:27\n",
            "F9 B5\n",
            "KSC\n",
            "Crew-1\n",
            "Crew-1\n",
            "LEO\n",
            "<a href=\"/wiki/NASA\" title=\"NASA\">NASA</a>\n",
            "99\n",
            "21 November 2020\n",
            "17:17:08\n",
            "F9 B5\n",
            "VAFB\n",
            "Sentinel-6 Michael Freilich (Jason-CS A)\n",
            "Sentinel-6 Michael Freilich (Jason-CS A)\n",
            "LEO\n",
            "<a href=\"/wiki/NASA\" title=\"NASA\">NASA</a>\n",
            "100\n",
            "25 November 2020\n",
            "02:13\n",
            "F9 B5 ♺\n",
            "CCAFS\n",
            "Starlink\n",
            "Starlink\n",
            "LEO\n",
            "<a href=\"/wiki/SpaceX\" title=\"SpaceX\">SpaceX</a>\n",
            "101\n",
            "6 December 2020\n",
            "16:17:08\n",
            "F9 B5 ♺\n",
            "KSC\n",
            "SpaceX CRS-21\n",
            "SpaceX CRS-21\n",
            "LEO\n",
            "<a href=\"/wiki/NASA\" title=\"NASA\">NASA</a>\n",
            "102\n",
            "13 December 2020\n",
            "17:30:00\n",
            "F9 B5 ♺\n",
            "CCSFS\n",
            "SXM-7\n",
            "SXM-7\n",
            "GTO\n",
            "<a href=\"/wiki/Sirius_XM\" title=\"Sirius XM\">Sirius XM</a>\n",
            "103\n",
            "19 December 2020\n",
            "14:00:00\n",
            "F9 B5 ♺\n",
            "KSC\n",
            "NROL-108\n",
            "NROL-108\n",
            "LEO\n",
            "<a href=\"/wiki/National_Reconnaissance_Office\" title=\"National Reconnaissance Office\">NRO</a>\n",
            "104\n",
            "8 January 2021\n",
            "02:15\n",
            "F9 B5\n",
            "CCSFS\n",
            "Türksat 5A\n",
            "Türksat 5A\n",
            "GTO\n",
            "<a href=\"/wiki/T%C3%BCrksat_(company)\" title=\"Türksat (company)\">Türksat</a>\n",
            "105\n",
            "20 January 2021\n",
            "13:02\n",
            "F9 B5B1051.8\n",
            "KSC\n",
            "Starlink\n",
            "Starlink\n",
            "LEO\n",
            "<a href=\"/wiki/SpaceX\" title=\"SpaceX\">SpaceX</a>\n",
            "106\n",
            "24 January 2021\n",
            "15:00\n",
            "F9 B5B1058.5\n",
            "CCSFS\n",
            "Transporter-1\n",
            "Transporter-1\n",
            "SSO\n",
            "None\n",
            "107\n",
            "4 February 2021\n",
            "06:19\n",
            "F9 B5 ♺\n",
            "CCSFS\n",
            "Starlink\n",
            "Starlink\n",
            "LEO\n",
            "<a href=\"/wiki/SpaceX\" title=\"SpaceX\">SpaceX</a>\n",
            "108\n",
            "16 February 2021\n",
            "03:59:37\n",
            "F9 B5 ♺\n",
            "CCSFS\n",
            "Starlink\n",
            "Starlink\n",
            "LEO\n",
            "<a href=\"/wiki/SpaceX\" title=\"SpaceX\">SpaceX</a>\n",
            "109\n",
            "4 March 2021\n",
            "08:24\n",
            "F9 B5 ♺\n",
            "KSC\n",
            "Starlink\n",
            "Starlink\n",
            "LEO\n",
            "<a href=\"/wiki/SpaceX\" title=\"SpaceX\">SpaceX</a>\n",
            "110\n",
            "11 March 2021\n",
            "08:13:29\n",
            "F9 B5 ♺\n",
            "CCSFS\n",
            "Starlink\n",
            "Starlink\n",
            "LEO\n",
            "<a href=\"/wiki/SpaceX\" title=\"SpaceX\">SpaceX</a>\n",
            "111\n",
            "14 March 2021\n",
            "10:01\n",
            "F9 B5 ♺\n",
            "KSC\n",
            "Starlink\n",
            "Starlink\n",
            "LEO\n",
            "<a href=\"/wiki/SpaceX\" title=\"SpaceX\">SpaceX</a>\n",
            "112\n",
            "24 March 2021\n",
            "08:28\n",
            "F9 B5B1060.6\n",
            "CCSFS\n",
            "Starlink\n",
            "Starlink\n",
            "LEO\n",
            "<a href=\"/wiki/SpaceX\" title=\"SpaceX\">SpaceX</a>\n",
            "113\n",
            "7 April 2021\n",
            "16:34\n",
            "F9 B5 ♺\n",
            "CCSFS\n",
            "Starlink\n",
            "Starlink\n",
            "LEO\n",
            "<a href=\"/wiki/SpaceX\" title=\"SpaceX\">SpaceX</a>\n",
            "114\n",
            "23 April 2021\n",
            "9:49\n",
            "F9 B5B1061.2\n",
            "KSC\n",
            "Crew-2\n",
            "Crew-2\n",
            "LEO\n",
            "<a href=\"/wiki/NASA\" title=\"NASA\">NASA</a>\n",
            "115\n",
            "29 April 2021\n",
            "03:44\n",
            "F9 B5B1060.7\n",
            "CCSFS\n",
            "Starlink\n",
            "Starlink\n",
            "LEO\n",
            "<a href=\"/wiki/SpaceX\" title=\"SpaceX\">SpaceX</a>\n",
            "116\n",
            "4 May 2021\n",
            "19:01\n",
            "F9 B5B1049.9\n",
            "KSC\n",
            "Starlink\n",
            "Starlink\n",
            "LEO\n",
            "<a href=\"/wiki/SpaceX\" title=\"SpaceX\">SpaceX</a>\n",
            "117\n",
            "9 May 2021\n",
            "06:42\n",
            "F9 B5B1051.10\n",
            "CCSFS\n",
            "Starlink\n",
            "Starlink\n",
            "LEO\n",
            "<a href=\"/wiki/SpaceX\" title=\"SpaceX\">SpaceX</a>\n",
            "118\n",
            "15 May 2021\n",
            "22:56\n",
            "F9 B5B1058.8\n",
            "KSC\n",
            "Starlink\n",
            "Starlink\n",
            "LEO\n",
            "<a href=\"/wiki/SpaceX\" title=\"SpaceX\">SpaceX</a>\n",
            "119\n",
            "26 May 2021\n",
            "18:59\n",
            "F9 B5B1063.2\n",
            "CCSFS\n",
            "Starlink\n",
            "Starlink\n",
            "LEO\n",
            "<a href=\"/wiki/SpaceX\" title=\"SpaceX\">SpaceX</a>\n",
            "120\n",
            "3 June 2021\n",
            "17:29\n",
            "F9 B5B1067.1\n",
            "KSC\n",
            "SpaceX CRS-22\n",
            "SpaceX CRS-22\n",
            "LEO\n",
            "<a href=\"/wiki/NASA\" title=\"NASA\">NASA</a>\n",
            "121\n",
            "6 June 2021\n",
            "04:26\n",
            "F9 B5\n",
            "CCSFS\n",
            "SXM-8\n",
            "SXM-8\n",
            "GTO\n",
            "<a href=\"/wiki/Sirius_XM\" title=\"Sirius XM\">Sirius XM</a>\n"
          ]
        }
      ],
      "source": [
        "extracted_row = 0\n",
        "#Extract each table \n",
        "for table_number,table in enumerate(soup.find_all('table',\"wikitable plainrowheaders collapsible\")):\n",
        "   # get table row \n",
        "    for rows in table.find_all(\"tr\"):\n",
        "        #check to see if first table heading is as number corresponding to launch a number \n",
        "        if rows.th:\n",
        "            if rows.th.string:\n",
        "                flight_number=rows.th.string.strip()\n",
        "                flag=flight_number.isdigit()\n",
        "        else:\n",
        "            flag=False\n",
        "        #get table element \n",
        "        row=rows.find_all('td')\n",
        "        #if it is number save cells in a dictonary \n",
        "        if flag:\n",
        "            extracted_row += 1\n",
        "            # Flight Number value\n",
        "            # TODO: Append the flight_number into launch_dict with key `Flight No.`\n",
        "            launch_dict['Flight No.'].append(flight_number)\n",
        "            print(flight_number)\n",
        "            datatimelist=date_time(row[0])\n",
        "            \n",
        "            # Date value\n",
        "            # TODO: Append the date into launch_dict with key `Date`\n",
        "            date = datatimelist[0].strip(',')\n",
        "            launch_dict['Date'].append(date)\n",
        "            print(date)\n",
        "            \n",
        "            # Time value\n",
        "            # TODO: Append the time into launch_dict with key `Time`\n",
        "            time = datatimelist[1]\n",
        "            launch_dict['Time'].append(time)\n",
        "            print(time)\n",
        "              \n",
        "            # Booster version\n",
        "            # TODO: Append the bv into launch_dict with key `Version Booster`\n",
        "            bv=booster_version(row[1])\n",
        "            if not(bv):\n",
        "                bv=row[1].a.string\n",
        "                launch_dict['Version Booster'].append(launch_dict)\n",
        "            print(bv)\n",
        "            \n",
        "            # Launch Site\n",
        "            # TODO: Append the bv into launch_dict with key `Launch Site`\n",
        "            launch_site = row[2].a.string\n",
        "            launch_dict['Launch site'].append(launch_site)\n",
        "            print(launch_site)\n",
        "            \n",
        "            # Payload\n",
        "            # TODO: Append the payload into launch_dict with key `Payload`\n",
        "            payload = row[3].a.string\n",
        "            launch_dict['Payload'].append(payload)\n",
        "            print(payload)\n",
        "            \n",
        "            # Payload Mass\n",
        "            # TODO: Append the payload_mass into launch_dict with key `Payload mass`\n",
        "            payload_mass = get_mass(row[4])\n",
        "            launch_dict['Payload mass'].append(payload_mass)\n",
        "            print(payload)\n",
        "            \n",
        "            # Orbit\n",
        "            # TODO: Append the orbit into launch_dict with key `Orbit`\n",
        "            orbit = row[5].a.string\n",
        "            launch_dict['Orbit'].append(orbit)\n",
        "            print(orbit)\n",
        "            \n",
        "            # Customer\n",
        "            # TODO: Append the customer into launch_dict with key `Customer`\n",
        "            customer = row[6].a\n",
        "            if customer:\n",
        "              launch_dict['Customer'].append(customer)\n",
        "            else:\n",
        "              launch_dict['Customer'].append(np.nan)\n",
        "            print(customer)\n",
        "            \n",
        "            # Launch outcome\n",
        "            # TODO: Append the launch_outcome into launch_dict with key `Launch outcome`\n",
        "            launch_outcome = list(row[7].strings)[0]\n",
        "            launch_dict['Launch outcome'].append(launch_outcome)\n",
        "            #print(launch_outcome)\n",
        "            \n",
        "            # Booster landing\n",
        "            # TODO: Append the launch_outcome into launch_dict with key `Booster landing`\n",
        "            booster_landing = landing_status(row[8])\n",
        "            launch_dict['Booster landing'].append(booster_landing)\n",
        "            #print(booster_landing)\n",
        "            "
      ]
    },
    {
      "cell_type": "markdown",
      "metadata": {
        "id": "g0lyNXuNbrwT"
      },
      "source": [
        "After you have fill in the parsed launch record values into `launch_dict`, you can create a dataframe from it.\n"
      ]
    },
    {
      "cell_type": "code",
      "execution_count": null,
      "metadata": {
        "id": "_JhGyTEKbrwT"
      },
      "outputs": [],
      "source": [
        "df=pd.DataFrame(launch_dict)"
      ]
    },
    {
      "cell_type": "markdown",
      "metadata": {
        "id": "l9rtnD_6brwT"
      },
      "source": [
        "We can now export it to a <b>CSV</b> for the next section, but to make the answers consistent and in case you have difficulties finishing this lab.\n",
        "\n",
        "Following labs will be using a provided dataset to make each lab independent.\n"
      ]
    },
    {
      "cell_type": "markdown",
      "metadata": {
        "id": "EWzo8eNhbrwU"
      },
      "source": [
        "<code>df.to_csv('spacex_web_scraped.csv', index=False)</code>\n"
      ]
    },
    {
      "cell_type": "markdown",
      "metadata": {
        "id": "K5t-EV9AbrwU"
      },
      "source": [
        "## Authors\n"
      ]
    },
    {
      "cell_type": "markdown",
      "metadata": {
        "id": "643w-ab_brwU"
      },
      "source": [
        "<a href=\"https://www.linkedin.com/in/yan-luo-96288783/?utm_medium=Exinfluencer&utm_source=Exinfluencer&utm_content=000026UJ&utm_term=10006555&utm_id=NA-SkillsNetwork-Channel-SkillsNetworkCoursesIBMDS0321ENSkillsNetwork26802033-2022-01-01\">Yan Luo</a>\n"
      ]
    },
    {
      "cell_type": "markdown",
      "metadata": {
        "id": "PkLpF4xNbrwU"
      },
      "source": [
        "<a href=\"https://www.linkedin.com/in/nayefaboutayoun/?utm_medium=Exinfluencer&utm_source=Exinfluencer&utm_content=000026UJ&utm_term=10006555&utm_id=NA-SkillsNetwork-Channel-SkillsNetworkCoursesIBMDS0321ENSkillsNetwork26802033-2022-01-01\">Nayef Abou Tayoun</a>\n"
      ]
    },
    {
      "cell_type": "markdown",
      "metadata": {
        "id": "Ia27fwIGbrwU"
      },
      "source": [
        "## Change Log\n"
      ]
    },
    {
      "cell_type": "markdown",
      "metadata": {
        "id": "LwXeff7obrwV"
      },
      "source": [
        "| Date (YYYY-MM-DD) | Version | Changed By | Change Description          |\n",
        "| ----------------- | ------- | ---------- | --------------------------- |\n",
        "| 2021-06-09        | 1.0     | Yan Luo    | Tasks updates               |\n",
        "| 2020-11-10        | 1.0     | Nayef      | Created the initial version |\n"
      ]
    },
    {
      "cell_type": "markdown",
      "metadata": {
        "id": "lIgkdGRWbrwV"
      },
      "source": [
        "Copyright © 2021 IBM Corporation. All rights reserved.\n"
      ]
    }
  ],
  "metadata": {
    "kernelspec": {
      "display_name": "Python 3",
      "language": "python",
      "name": "python3"
    },
    "language_info": {
      "codemirror_mode": {
        "name": "ipython",
        "version": 3
      },
      "file_extension": ".py",
      "mimetype": "text/x-python",
      "name": "python",
      "nbconvert_exporter": "python",
      "pygments_lexer": "ipython3",
      "version": "3.8.8"
    },
    "colab": {
      "name": "jupyter-labs-webscraping.ipynb",
      "provenance": []
    }
  },
  "nbformat": 4,
  "nbformat_minor": 0
}